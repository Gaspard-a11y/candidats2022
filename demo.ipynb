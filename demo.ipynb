{
 "cells": [
  {
   "cell_type": "markdown",
   "id": "766f6aca",
   "metadata": {},
   "source": [
    "# Candidats 2022\n",
    "\n",
    "Bienvenue, veuillez lancer les cellules suivantes (si nécessaire, accepter le message d'alterte lancé par Google) : "
   ]
  },
  {
   "cell_type": "code",
   "execution_count": null,
   "id": "8a7d16dc",
   "metadata": {},
   "outputs": [],
   "source": [
    "! git clone https://github.com/Gaspard-a11y/candidats2022.git"
   ]
  },
  {
   "cell_type": "code",
   "execution_count": null,
   "id": "0129a896",
   "metadata": {},
   "outputs": [],
   "source": [
    "! cd candidats2022"
   ]
  },
  {
   "cell_type": "code",
   "execution_count": null,
   "id": "199e6fe8",
   "metadata": {},
   "outputs": [],
   "source": [
    "! python main.py"
   ]
  }
 ],
 "metadata": {
  "kernelspec": {
   "display_name": "Python 3 (ipykernel)",
   "language": "python",
   "name": "python3"
  },
  "language_info": {
   "codemirror_mode": {
    "name": "ipython",
    "version": 3
   },
   "file_extension": ".py",
   "mimetype": "text/x-python",
   "name": "python",
   "nbconvert_exporter": "python",
   "pygments_lexer": "ipython3",
   "version": "3.7.9"
  }
 },
 "nbformat": 4,
 "nbformat_minor": 5
}
