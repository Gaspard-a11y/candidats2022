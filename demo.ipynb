{
 "cells": [
  {
   "cell_type": "code",
   "execution_count": 4,
   "id": "b4623b12",
   "metadata": {},
   "outputs": [
    {
     "name": "stdout",
     "output_type": "stream",
     "text": [
      " Le volume dans le lecteur C s'appelle Windows-SSD\n",
      " Le num�ro de s�rie du volume est FA05-581E\n",
      "\n",
      " R�pertoire de c:\\Users\\gaspa\\Documents\\Projets\\candidats2022\n",
      "\n",
      "08/04/2022  17:57    <DIR>          .\n",
      "08/04/2022  17:46    <DIR>          ..\n",
      "08/04/2022  17:47               176 .gitignore\n",
      "08/04/2022  16:43    <DIR>          .ipynb_checkpoints\n",
      "31/03/2022  16:06    <DIR>          __pycache__\n",
      "31/03/2022  16:05               424 candidat.py\n",
      "30/03/2022  17:48    <DIR>          candidats\n",
      "08/04/2022  18:01             1�269 demo.ipynb\n",
      "08/04/2022  18:01             8�518 main.py\n",
      "30/03/2022  14:27    <DIR>          photos_programmes\n",
      "01/04/2022  17:27               686 README.md\n",
      "31/03/2022  18:01             2�126 requirements.txt\n",
      "08/04/2022  17:50    <DIR>          resultats\n",
      "08/04/2022  16:42    <DIR>          venv2022\n",
      "               6 fichier(s)           13�199 octets\n",
      "               8 R�p(s)  124�296�916�992 octets libres\n"
     ]
    }
   ],
   "source": [
    "%ls"
   ]
  },
  {
   "cell_type": "code",
   "execution_count": 6,
   "id": "8a7d16dc",
   "metadata": {},
   "outputs": [
    {
     "name": "stdout",
     "output_type": "stream",
     "text": [
      " Le volume dans le lecteur C s'appelle Windows-SSD\n",
      " Le num�ro de s�rie du volume est FA05-581E\n",
      "\n",
      " R�pertoire de c:\\Users\\gaspa\\Documents\\Projets\\candidats2022\n",
      "\n",
      "08/04/2022  17:57    <DIR>          .\n",
      "08/04/2022  17:46    <DIR>          ..\n",
      "08/04/2022  17:47               176 .gitignore\n",
      "08/04/2022  16:43    <DIR>          .ipynb_checkpoints\n",
      "31/03/2022  16:06    <DIR>          __pycache__\n",
      "31/03/2022  16:05               424 candidat.py\n",
      "30/03/2022  17:48    <DIR>          candidats\n",
      "08/04/2022  18:02             2�162 demo.ipynb\n",
      "08/04/2022  18:01             8�518 main.py\n",
      "30/03/2022  14:27    <DIR>          photos_programmes\n",
      "01/04/2022  17:27               686 README.md\n",
      "31/03/2022  18:01             2�126 requirements.txt\n",
      "08/04/2022  17:50    <DIR>          resultats\n",
      "08/04/2022  16:42    <DIR>          venv2022\n",
      "               6 fichier(s)           14�092 octets\n",
      "               8 R�p(s)  124�453�228�544 octets libres\n"
     ]
    }
   ],
   "source": [
    "! python main.py"
   ]
  },
  {
   "cell_type": "code",
   "execution_count": null,
   "id": "0129a896",
   "metadata": {},
   "outputs": [],
   "source": []
  }
 ],
 "metadata": {
  "kernelspec": {
   "display_name": "Python 3 (ipykernel)",
   "language": "python",
   "name": "python3"
  },
  "language_info": {
   "codemirror_mode": {
    "name": "ipython",
    "version": 3
   },
   "file_extension": ".py",
   "mimetype": "text/x-python",
   "name": "python",
   "nbconvert_exporter": "python",
   "pygments_lexer": "ipython3",
   "version": "3.7.9"
  }
 },
 "nbformat": 4,
 "nbformat_minor": 5
}
